{
 "cells": [
  {
   "cell_type": "code",
   "execution_count": null,
   "id": "8f21ab32-cfbc-431f-8c78-0b693bd5328a",
   "metadata": {},
   "outputs": [],
   "source": []
  },
  {
   "cell_type": "markdown",
   "id": "da05b3c2-c66c-4189-8097-856b146f51de",
   "metadata": {},
   "source": [
    "# Analisis de data EldenRing"
   ]
  },
  {
   "cell_type": "code",
   "execution_count": null,
   "id": "365d607c-4020-4c40-a1b4-f5c56dad8c97",
   "metadata": {},
   "outputs": [],
   "source": []
  },
  {
   "cell_type": "markdown",
   "id": "9b892efc-9519-4e3d-8e02-b981ddc99ea4",
   "metadata": {},
   "source": [
    "Este proyecto explora datos detallados sobre Elden Ring (FromSoftware, 2022), analizando jefes, armas y stats de armas. El objetivo es revelar patrones ocultos, relaciones entre armas y dmg.\n",
    "\n",
    "Datasets Utilizados \n",
    "\n",
    "1. Ultimate Elden Ring with Shadow of The Erdtree DLC\n",
    "Creado por: Pedro Altobelli\n",
    "Enlace: https://www.kaggle.com/datasets/pedroaltobelli/ultimate-elden-ring-with-shadow-of-the-erdtree-dlc\n",
    "Licencia: CC0: Public Domain (libre para uso comercial, sin atribución requerida pero ética).\n",
    "Contenido: Stats de jefes, armas, NPCs, ubicaciones y datos del DLC.\n",
    "\n",
    "2. Elden Ring Ultimate Dataset\n",
    "Creado por: Rob Mulla\n",
    "Enlace: https://www.kaggle.com/datasets/robikscube/elden-ring-ultimate-dataset\n",
    "Licencia: CC0: Public Domain (libre para uso comercial, sin atribución requerida pero ética).\n",
    "Contenido: Armas, escudos, ubicaciones, etc. \n",
    "\n",
    "3. Los datos de debilidades y coordenadas de los jefes fueron extraídos del sitio:\n",
    "[Fextralife Elden Ring Wiki](https://eldenring.wiki.fextralife.com/)  para fines educativos.\n",
    "Crédito a Fextralife por la información recopilada. Por respeto no se compartiran la informacion recopilada. \n",
    "\n",
    "Este análisis no sería posible sin el trabajo de recopilación de datos de la comunidad. Por favor, considera citar los datasets originales si usas este repositorio:\n",
    "\n",
    "Herramientas utilizadas\n",
    "Lenguajes: Python (pandas, matplotlib, seaborn).\n",
    "Repositorio: GitHub.\n",
    "\n",
    "Hallazgos Clave \n",
    "Peso vs tipo de dmg, Poder de ataque, debilidades de bosses, regiones donde hay gran concentracion de bosses y criaturas.\n",
    "Armas más efectivas: Relación entre debilidades de bosses y el dmg del arma.\n",
    "\n",
    "Las imágenes/frases de Elden Ring son propiedad de FromSoftware/Bandai Namco. Este proyecto es solo con fines educativos.\n",
    "Contribuciones: ¡Siéntete libre de hacer un fork o sugerir mejoras!"
   ]
  },
  {
   "cell_type": "code",
   "execution_count": null,
   "id": "027038bf-0766-42e1-b56e-e30d9b0e3082",
   "metadata": {},
   "outputs": [],
   "source": []
  },
  {
   "cell_type": "code",
   "execution_count": 1,
   "id": "b6ddb6f1-9d40-4e03-b7de-5a6bf33477f8",
   "metadata": {},
   "outputs": [],
   "source": [
    "import pandas as pd\n",
    "import seaborn as sns\n",
    "import matplotlib.pyplot as plt\n",
    "import ast \n",
    "from ast import literal_eval\n",
    "import os\n",
    "from pathlib import Path\n",
    "from pandas import json_normalize\n",
    "import re\n",
    "from collections import defaultdict\n",
    "from IPython.display import Image, display\n",
    "import numpy as np \n",
    "from collections.abc import Iterable\n",
    "import json\n",
    "from warnings import simplefilter\n",
    "from PIL import Image\n",
    "simplefilter(action=\"ignore\", category=pd.errors.PerformanceWarning)\n",
    "import matplotlib.image as mpimg"
   ]
  },
  {
   "cell_type": "code",
   "execution_count": null,
   "id": "84c64f4d-ddec-4944-9b1b-cda164009fce",
   "metadata": {},
   "outputs": [],
   "source": []
  },
  {
   "cell_type": "code",
   "execution_count": 2,
   "id": "b5fd4cfc-f05d-4d9b-8828-f9310c1a4bdf",
   "metadata": {},
   "outputs": [],
   "source": [
    "pd.set_option('display.max_colwidth', None) \n",
    "pd.set_option('display.max_rows', None)  "
   ]
  },
  {
   "cell_type": "code",
   "execution_count": null,
   "id": "01a9849d-00c5-4f8e-9f10-e8b6dac596a1",
   "metadata": {},
   "outputs": [],
   "source": []
  },
  {
   "cell_type": "markdown",
   "id": "56b48578-8da0-4173-9f03-e809c9660e09",
   "metadata": {},
   "source": [
    "Se importan los csv con las tablas que se utilizaran en el analisis, se agregaran como tablas en un diccionario \"dataframes\" para poder acceder a ellas facilmente"
   ]
  },
  {
   "cell_type": "code",
   "execution_count": null,
   "id": "d29eda4b-bc15-4111-9fb0-880ba28a6b26",
   "metadata": {},
   "outputs": [],
   "source": []
  },
  {
   "cell_type": "code",
   "execution_count": 3,
   "id": "54f76890-94f4-434a-81f9-2577557e2065",
   "metadata": {},
   "outputs": [],
   "source": [
    "carpeta = Path(r\"C:\\Users\\sayur\\OneDrive\\Documentos\\DataSets\\eldenring2\")\n",
    "dataframes = {}  #Nombre del diccionario\n",
    "for archivo in carpeta.glob('*.csv'):\n",
    "    nombre_tabla = archivo.stem  \n",
    "    dataframes[nombre_tabla] = pd.read_csv(archivo,dtype=str, low_memory=False, na_filter=True)"
   ]
  },
  {
   "cell_type": "code",
   "execution_count": null,
   "id": "ff312c21-3dfe-4174-898b-13d26140a6e7",
   "metadata": {},
   "outputs": [],
   "source": []
  },
  {
   "cell_type": "markdown",
   "id": "d3a3d0b4-23a6-4162-b973-730e2ee811cd",
   "metadata": {},
   "source": [
    "La función \"expand_list_of_dicts\" transforma una columna en un DataFrame(tabla) de pandas que contiene listas/listas anidadas de diccionarios en sus propias columnas individuales basadas en las claves de los diccionarios."
   ]
  },
  {
   "cell_type": "code",
   "execution_count": null,
   "id": "866ce201-0650-4ace-a63e-b64524e95aa6",
   "metadata": {},
   "outputs": [],
   "source": []
  },
  {
   "cell_type": "code",
   "execution_count": 4,
   "id": "18cd2162-fb27-413e-9b9c-92575759a073",
   "metadata": {},
   "outputs": [],
   "source": [
    "def expand_list_of_dicts(df, column_name, primary_key='auto', exclude_keys=None):\n",
    "    \"\"\"\n",
    "    Expande columnas que contienen listas de diccionarios.\n",
    "    Ejemplo: [{'name': 'attack', 'amount': 10}, {'name': 'defense', 'amount': 5}]\n",
    "    \"\"\"\n",
    "    if exclude_keys is None:\n",
    "        exclude_keys = []\n",
    "    \n",
    "    try:\n",
    "        data = df[column_name].apply(lambda x: ast.literal_eval(x) if pd.notna(x) and isinstance(x, str) else [])\n",
    "    except (ValueError, SyntaxError) as e:\n",
    "        print(f\"⚠️ Error al procesar {column_name}: {str(e)}\")\n",
    "        return df\n",
    "    \n",
    "    all_keys = set()\n",
    "    for item in data.explode():\n",
    "        if isinstance(item, dict):\n",
    "            all_keys.update(k for k in item.keys() if k not in exclude_keys)\n",
    "    \n",
    "    if not all_keys:\n",
    "        return df\n",
    "    \n",
    "    if primary_key == 'auto':\n",
    "        primary_key = 'name' if 'name' in all_keys else next(iter(all_keys))\n",
    "    elif primary_key not in all_keys:\n",
    "        primary_key = next(iter(all_keys))\n",
    "    \n",
    "    value_keys = [k for k in all_keys if k != primary_key]\n",
    "    new_columns = defaultdict(list)\n",
    "    \n",
    "    for idx, items in enumerate(data):\n",
    "        temp = {}\n",
    "        if isinstance(items, list):\n",
    "            for item in items:\n",
    "                if isinstance(item, dict):\n",
    "                    p_value = item.get(primary_key)\n",
    "                    if p_value:\n",
    "                        for v_key in value_keys:\n",
    "                            col_name = f\"{column_name}_{p_value}_{v_key}\"\n",
    "                            temp[col_name] = item.get(v_key)\n",
    "        \n",
    "        for col in new_columns:\n",
    "            new_columns[col].append(temp.get(col))\n",
    "        for col in temp:\n",
    "            if col not in new_columns:\n",
    "                new_columns[col] = [None] * idx + [temp[col]]\n",
    "    \n",
    "    for col_name, values in new_columns.items():\n",
    "        df[col_name] = values\n",
    "    \n",
    "    return df"
   ]
  },
  {
   "cell_type": "code",
   "execution_count": null,
   "id": "88a5a934-c829-4e95-9f15-c68bbcd5523b",
   "metadata": {},
   "outputs": [],
   "source": []
  },
  {
   "cell_type": "markdown",
   "id": "6e85a012-8cfe-45da-9afe-9ae94f6202c5",
   "metadata": {},
   "source": [
    "La función \"expand_direct_dicts\" maneja  las columnas con diccionarios directos"
   ]
  },
  {
   "cell_type": "code",
   "execution_count": null,
   "id": "53d7b887-c005-475e-8e81-eb1ab2f23e5b",
   "metadata": {},
   "outputs": [],
   "source": []
  },
  {
   "cell_type": "code",
   "execution_count": 5,
   "id": "e73bf49a-5703-4c31-a8dc-3b2ad087dc97",
   "metadata": {},
   "outputs": [],
   "source": [
    "def expand_direct_dicts(df, column_name):\n",
    "    \"\"\"\n",
    "    Expande columnas que contienen diccionarios directamente.\n",
    "    Ejemplo: {'attack': 10, 'defense': 5}\n",
    "    \"\"\"\n",
    "    try:\n",
    "        # Convertir strings a diccionarios si es necesario\n",
    "        data = df[column_name].apply(lambda x: ast.literal_eval(x) if pd.notna(x) and isinstance(x, str) else {})\n",
    "        \n",
    "        # Obtener todas las claves únicas de los diccionarios\n",
    "        all_keys = set()\n",
    "        for d in data:\n",
    "            if isinstance(d, dict):\n",
    "                all_keys.update(d.keys())\n",
    "        \n",
    "        # Crear nuevas columnas para cada clave\n",
    "        for key in all_keys:\n",
    "            new_col_name = f\"{column_name}_{key}\"\n",
    "            df[new_col_name] = data.apply(lambda x: x.get(key) if isinstance(x, dict) else None)\n",
    "        \n",
    "        return df\n",
    "    \n",
    "    except (ValueError, SyntaxError) as e:\n",
    "        print(f\"⚠️ Error al expandir diccionarios en {column_name}: {str(e)}\")\n",
    "        return df"
   ]
  },
  {
   "cell_type": "code",
   "execution_count": null,
   "id": "6ac065d3-2467-4d6e-bd0c-167c20834196",
   "metadata": {},
   "outputs": [],
   "source": []
  },
  {
   "cell_type": "markdown",
   "id": "f767392b-49c7-4726-af17-54c9d3fd0c7c",
   "metadata": {},
   "source": [
    "La función \"smart_expand_columns\" detecta automáticamente el formato de datos que hay en una columna de un DataFrame(tabla) y decide cómo expandirlo correctamente mandando a llamar las dos funciones anteriores"
   ]
  },
  {
   "cell_type": "code",
   "execution_count": null,
   "id": "3d05b8e1-54fe-4060-aa73-0e45bd80c4b9",
   "metadata": {},
   "outputs": [],
   "source": []
  },
  {
   "cell_type": "code",
   "execution_count": 6,
   "id": "b935ab9c-02bd-4e37-b087-501a2ce60c19",
   "metadata": {},
   "outputs": [],
   "source": [
    "def smart_expand_columns(df, column_name):\n",
    "    \"\"\"\n",
    "    Decide automáticamente cómo expandir la columna.\n",
    "    \"\"\"\n",
    "    if df[column_name].empty:\n",
    "        return df\n",
    "    \n",
    "    sample = df[column_name].dropna().iloc[0] if not df[column_name].dropna().empty else \"\"\n",
    "    \n",
    "    if isinstance(sample, str):\n",
    "        try:\n",
    "            parsed = ast.literal_eval(sample)\n",
    "            if isinstance(parsed, list) and parsed and isinstance(parsed[0], dict):\n",
    "                return expand_list_of_dicts(df, column_name)\n",
    "            elif isinstance(parsed, dict):\n",
    "                return expand_direct_dicts(df, column_name)\n",
    "        except (ValueError, SyntaxError):\n",
    "            pass\n",
    "    \n",
    "    return df"
   ]
  },
  {
   "cell_type": "code",
   "execution_count": null,
   "id": "0c83fc1d-0019-436a-90bf-15ea6e866bf5",
   "metadata": {},
   "outputs": [],
   "source": []
  },
  {
   "cell_type": "markdown",
   "id": "9f1a1167-cbe2-4203-962f-3ed8a4be94e5",
   "metadata": {},
   "source": [
    "La funcion \"normalize_all_dataframes\" automatiza el proceso de normalización estructural para todos los DataFrames en el diccionario. \n",
    "Transformar todas las columnas anidadas (listas de diccionarios o diccionarios directos) en columnas planas en el DataFrames."
   ]
  },
  {
   "cell_type": "code",
   "execution_count": null,
   "id": "520104fd-663d-4973-b1a4-0f406bd13290",
   "metadata": {},
   "outputs": [],
   "source": []
  },
  {
   "cell_type": "code",
   "execution_count": 7,
   "id": "a5e90ba4-1a13-4f47-b25a-4e3dbeba4fbc",
   "metadata": {},
   "outputs": [
    {
     "name": "stdout",
     "output_type": "stream",
     "text": [
      "📊 Tabla: bosses\n",
      "📊 Tabla: bosses_final_clean\n",
      "📊 Tabla: creatures\n",
      "📊 Tabla: locations\n",
      "📊 Tabla: locations_coords\n",
      "📊 Tabla: weapons2\n"
     ]
    }
   ],
   "source": [
    "def normalize_all_dataframes(dataframes_dict):\n",
    "    for table_name, df in dataframes_dict.items():\n",
    "        for col in df.columns:\n",
    "            if df[col].empty:\n",
    "                continue\n",
    "            df = smart_expand_columns(df, col)  # <- Ahora llama a la versión singular\n",
    "        dataframes_dict[table_name] = df\n",
    "    return dataframes_dict\n",
    "    # Aplicar a todos los DataFrames\n",
    "dataframes = normalize_all_dataframes(dataframes)\n",
    "# Verificar resultados\n",
    "for name, df in dataframes.items():\n",
    "    print(f\"📊 Tabla: {name}\")\n",
    "    #print(\"Nuevas columnas:\", [c for c in df.columns if c != name])"
   ]
  },
  {
   "cell_type": "code",
   "execution_count": null,
   "id": "1fe3cb75-8cd5-4b8f-bed9-85d92841b736",
   "metadata": {},
   "outputs": [],
   "source": []
  },
  {
   "cell_type": "markdown",
   "id": "40034b3a-153f-45fb-8321-8178f25f4182",
   "metadata": {},
   "source": [
    "Con la funcion \"convertir_todo_a_minusculas\" se conviertes los strings detectados  a minusculas en el dataframes"
   ]
  },
  {
   "cell_type": "code",
   "execution_count": null,
   "id": "26e97c06-6472-4239-ac21-aa07f8a4ad98",
   "metadata": {},
   "outputs": [],
   "source": []
  },
  {
   "cell_type": "code",
   "execution_count": 8,
   "id": "3bb7584b-0bbd-45fb-b0ba-3fba9d4bc414",
   "metadata": {},
   "outputs": [
    {
     "name": "stdout",
     "output_type": "stream",
     "text": [
      "✅ DataFrame procesado: 10 columnas de texto convertidas\n",
      "✅ DataFrame procesado: 4 columnas de texto convertidas\n",
      "✅ DataFrame procesado: 7 columnas de texto convertidas\n",
      "✅ DataFrame procesado: 10 columnas de texto convertidas\n",
      "✅ DataFrame procesado: 3 columnas de texto convertidas\n",
      "✅ DataFrame procesado: 19 columnas de texto convertidas\n"
     ]
    }
   ],
   "source": [
    "def convertir_todo_a_minusculas(data):\n",
    "    \"\"\"\n",
    "    Convierte todos los strings en una estructura de datos a minúsculas.\n",
    "    Puede manejar DataFrames, diccionarios, listas o combinaciones de estos.\n",
    "    \n",
    "    \"\"\"\n",
    "    \n",
    "    # Caso 1: Es un DataFrame de pandas\n",
    "    if isinstance(data, pd.DataFrame):\n",
    "        try:\n",
    "            df_procesado = data.copy()\n",
    "            columnas_texto = df_procesado.select_dtypes(include=['object', 'string']).columns\n",
    "            \n",
    "            df_procesado[columnas_texto] = df_procesado[columnas_texto].apply(\n",
    "                lambda x: x.str.lower() if pd.api.types.is_string_dtype(x) else x\n",
    "            )\n",
    "            \n",
    "            print(f\"✅ DataFrame procesado: {len(columnas_texto)} columnas de texto convertidas\")\n",
    "            return df_procesado\n",
    "            \n",
    "        except Exception as e:\n",
    "            print(f\"⚠ Error procesando DataFrame: {str(e)}\")\n",
    "            return data  # Devuelve el original si hay error\n",
    "    \n",
    "    # Caso 2: Es un diccionario\n",
    "    elif isinstance(data, dict):\n",
    "        resultado = {}\n",
    "        for key, value in data.items():\n",
    "            try:\n",
    "                resultado[key] = convertir_todo_a_minusculas(value)\n",
    "            except Exception as e:\n",
    "                print(f\"⚠ Error procesando clave {key}: {str(e)}\")\n",
    "                resultado[key] = value\n",
    "        return resultado\n",
    "    \n",
    "    # Caso 3: Es una lista o tupla\n",
    "    elif isinstance(data, (list, tuple)):\n",
    "        try:\n",
    "            return [convertir_todo_a_minusculas(item) for item in data]\n",
    "        except Exception as e:\n",
    "            print(f\"⚠ Error procesando lista: {str(e)}\")\n",
    "            return data\n",
    "    \n",
    "    # Caso 4: Es un string\n",
    "    elif isinstance(data, str):\n",
    "        return data.lower()\n",
    "    \n",
    "    # Caso 5: Es un numpy array u otro tipo\n",
    "    elif isinstance(data, np.ndarray):\n",
    "        try:\n",
    "            # Para arrays de strings\n",
    "            if data.dtype.kind in ['U', 'S', 'O']:  # Unicode, string, object\n",
    "                return np.char.lower(data)\n",
    "            else:\n",
    "                return data\n",
    "        except Exception as e:\n",
    "            print(f\"⚠ Error procesando array numpy: {str(e)}\")\n",
    "            return data\n",
    "    \n",
    "    # Caso 6: Otros tipos (números, None, etc.)\n",
    "    else:\n",
    "        return data\n",
    "\n",
    "\n",
    "# Ejemplo de uso:\n",
    "dataframes = convertir_todo_a_minusculas(dataframes)"
   ]
  },
  {
   "cell_type": "code",
   "execution_count": null,
   "id": "733a98a0-0199-4e90-8265-ac8613388f06",
   "metadata": {},
   "outputs": [],
   "source": []
  },
  {
   "cell_type": "markdown",
   "id": "51b948bd-2491-43c3-8459-c3e185aab68c",
   "metadata": {},
   "source": [
    "Con la funcion \"convert_to_numeric\" detecta en todas las tablas del diccionario las columnas que tengan valores que se puedan convertir a numeros y los convierte. "
   ]
  },
  {
   "cell_type": "code",
   "execution_count": null,
   "id": "9e0a1a66-419f-45b2-abda-76d651085926",
   "metadata": {},
   "outputs": [],
   "source": []
  },
  {
   "cell_type": "code",
   "execution_count": 9,
   "id": "f38a86c5-6348-42d8-b78e-be0dbef85677",
   "metadata": {},
   "outputs": [],
   "source": [
    "def convert_to_numeric(df, min_numeric_ratio=0.8):\n",
    "    \"\"\"\n",
    "    Convierte solo columnas con alto porcentaje de valores numéricos.\n",
    "    \n",
    "    Args:\n",
    "        df: DataFrame a procesar.\n",
    "        min_numeric_ratio: Mínimo de valores convertibles (0.8 = 80%) para aplicar cambios.\n",
    "    \"\"\"\n",
    "    for col in df.columns:\n",
    "        # Si la columna ya es numérica, saltar\n",
    "        if pd.api.types.is_numeric_dtype(df[col]):\n",
    "            continue\n",
    "            \n",
    "        # Intentar conversión\n",
    "        converted = pd.to_numeric(df[col], errors='coerce')\n",
    "        \n",
    "        # Verificar ratio de éxito (ej: 80% de valores convertidos)\n",
    "        success_ratio = 1 - converted.isna().mean()\n",
    "        \n",
    "        if success_ratio >= min_numeric_ratio:\n",
    "            df[col] = converted\n",
    "            \n",
    "    return df\n",
    "\n",
    "\n",
    "# Aplicar a todos los DataFrames (seguro y eficiente)\n",
    "for name, df in dataframes.items():\n",
    "    dataframes[name] = convert_to_numeric(df.copy())"
   ]
  },
  {
   "cell_type": "code",
   "execution_count": null,
   "id": "f5b3ec9c-8318-4187-b8f6-8d30e52be8c5",
   "metadata": {},
   "outputs": [],
   "source": []
  },
  {
   "cell_type": "markdown",
   "id": "b1a6fb42-9672-40da-b977-27f2fb0210de",
   "metadata": {},
   "source": [
    "En esta parte se eliminan durante el analisis las columnas indicadas sin que se modifique en los archivos."
   ]
  },
  {
   "cell_type": "code",
   "execution_count": null,
   "id": "05035d8e-53c6-48f1-af63-1164d223a67b",
   "metadata": {},
   "outputs": [],
   "source": []
  },
  {
   "cell_type": "code",
   "execution_count": 10,
   "id": "776e0868-8084-4c55-827d-6cd4f7ece3fc",
   "metadata": {},
   "outputs": [],
   "source": [
    "#Se eliminaran columnas que no se ocuparan\n",
    "columnas_a_eliminar = ['image', 'description', 'id', 'drops', 'drop', 'blockquote'\t]  # Columnas redundantes\n",
    "for nombre_tabla, df in dataframes.items():  \n",
    "  dataframes[nombre_tabla] = df.drop(columns=columnas_a_eliminar, errors='ignore')"
   ]
  },
  {
   "cell_type": "code",
   "execution_count": null,
   "id": "9f41de18-98ef-4d52-9601-1976d61aee06",
   "metadata": {},
   "outputs": [],
   "source": []
  },
  {
   "cell_type": "code",
   "execution_count": 11,
   "id": "e5149ad8-9431-441e-a114-b823f38de1b5",
   "metadata": {},
   "outputs": [],
   "source": [
    "df_locations=dataframes['locations']"
   ]
  },
  {
   "cell_type": "code",
   "execution_count": null,
   "id": "c2fc7bfb-d3fb-4540-8d09-fa134bca2330",
   "metadata": {},
   "outputs": [],
   "source": []
  },
  {
   "cell_type": "code",
   "execution_count": 12,
   "id": "1769a35d-b543-4e4c-a621-17a989708214",
   "metadata": {},
   "outputs": [
    {
     "data": {
      "text/html": [
       "<div>\n",
       "<style scoped>\n",
       "    .dataframe tbody tr th:only-of-type {\n",
       "        vertical-align: middle;\n",
       "    }\n",
       "\n",
       "    .dataframe tbody tr th {\n",
       "        vertical-align: top;\n",
       "    }\n",
       "\n",
       "    .dataframe thead th {\n",
       "        text-align: right;\n",
       "    }\n",
       "</style>\n",
       "<table border=\"1\" class=\"dataframe\">\n",
       "  <thead>\n",
       "    <tr style=\"text-align: right;\">\n",
       "      <th></th>\n",
       "      <th>location</th>\n",
       "      <th>region</th>\n",
       "      <th>items</th>\n",
       "      <th>npcs</th>\n",
       "      <th>creatures</th>\n",
       "      <th>bosses</th>\n",
       "      <th>dlc</th>\n",
       "    </tr>\n",
       "  </thead>\n",
       "  <tbody>\n",
       "    <tr>\n",
       "      <th>0</th>\n",
       "      <td>abandoned ailing village</td>\n",
       "      <td>gravesite plain</td>\n",
       "      <td>['Broken Rune', 'Golden Rune (1)', 'Black Pyrefly', 'Human Bone Shard', 'Fly Mold', 'Ailment Talisman', 'Revered Spirit Ash', \"Greater Potentate's Cookbook (10)\", 'Larval Tear']</td>\n",
       "      <td>['Spirit NPC']</td>\n",
       "      <td>['Man-Fly']</td>\n",
       "      <td>NaN</td>\n",
       "      <td>1</td>\n",
       "    </tr>\n",
       "  </tbody>\n",
       "</table>\n",
       "</div>"
      ],
      "text/plain": [
       "                   location           region  \\\n",
       "0  abandoned ailing village  gravesite plain   \n",
       "\n",
       "                                                                                                                                                                               items  \\\n",
       "0  ['Broken Rune', 'Golden Rune (1)', 'Black Pyrefly', 'Human Bone Shard', 'Fly Mold', 'Ailment Talisman', 'Revered Spirit Ash', \"Greater Potentate's Cookbook (10)\", 'Larval Tear']   \n",
       "\n",
       "             npcs    creatures bosses  dlc  \n",
       "0  ['Spirit NPC']  ['Man-Fly']    NaN    1  "
      ]
     },
     "execution_count": 12,
     "metadata": {},
     "output_type": "execute_result"
    }
   ],
   "source": [
    "df_locations.head(1)"
   ]
  }
 ],
 "metadata": {
  "kernelspec": {
   "display_name": "Python 3 (ipykernel)",
   "language": "python",
   "name": "python3"
  },
  "language_info": {
   "codemirror_mode": {
    "name": "ipython",
    "version": 3
   },
   "file_extension": ".py",
   "mimetype": "text/x-python",
   "name": "python",
   "nbconvert_exporter": "python",
   "pygments_lexer": "ipython3",
   "version": "3.13.3"
  }
 },
 "nbformat": 4,
 "nbformat_minor": 5
}
